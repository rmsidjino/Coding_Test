{
 "cells": [
  {
   "cell_type": "markdown",
   "id": "2507e953",
   "metadata": {},
   "source": [
    "### 대표적인 데이터 구조: 링크드 리스트(Linked List)"
   ]
  },
  {
   "cell_type": "markdown",
   "id": "f2825c73",
   "metadata": {},
   "source": [
    "### 1. 링크드 리스트 구조\n",
    "    - 연결 리스트라고도 함\n",
    "    - 배열은 순차적으로 연결된 공간에 데이터를 나열하는 데이터 구조\n",
    "    - 링크드 리스트는 떨어진 곳에 존재하는 데이터를 활용하여  \n",
    "    - 본래 C언어에서는 주요한 데이터 구조지만, 파이썬은 리스트 타입이 링크드 리스트의 기능을 모두 지원"
   ]
  },
  {
   "cell_type": "code",
   "execution_count": 1,
   "id": "6462c3c4",
   "metadata": {},
   "outputs": [],
   "source": [
    "from IPython.display import Image"
   ]
  },
  {
   "attachments": {},
   "cell_type": "markdown",
   "id": "a489a6db",
   "metadata": {},
   "source": [
    "    - 링크드 리스트 기본 구조와 용어\n",
    "        - 노트(Node) : 데이터 저장 단위 (데이터값, 포인터)로 구성\n",
    "        - 포인터(Pointer) : 각 노드 안에서, 다음이나 이전의 노드와의 연결 정보를 가지고 있는 공간"
   ]
  },
  {
   "cell_type": "markdown",
   "id": "514cfcf8",
   "metadata": {},
   "source": [
    "### 2. 간단한 링크드 리스트 예"
   ]
  },
  {
   "cell_type": "markdown",
   "id": "31e090f4",
   "metadata": {},
   "source": [
    "##### Node 구현\n",
    "    - 보통 파이썬에서 링크드 리스트 구현시, 파이썬 클래스를 활용함"
   ]
  },
  {
   "cell_type": "code",
   "execution_count": 2,
   "id": "3f62df91",
   "metadata": {},
   "outputs": [],
   "source": [
    "class Node:\n",
    "    def __init__(self, data):\n",
    "        self.data = data\n",
    "        self.next = None"
   ]
  },
  {
   "cell_type": "code",
   "execution_count": 3,
   "id": "881f21cc",
   "metadata": {},
   "outputs": [],
   "source": [
    "class Node:\n",
    "    def __init__(self, data, next= None):\n",
    "        self.data = data\n",
    "        self.next = None"
   ]
  },
  {
   "cell_type": "markdown",
   "id": "4fc5a8c2",
   "metadata": {},
   "source": [
    "##### Node와 Node 연결하기 (포인터 활용)"
   ]
  },
  {
   "cell_type": "code",
   "execution_count": 5,
   "id": "8576fcf4",
   "metadata": {},
   "outputs": [],
   "source": [
    "node1 = Node(1)\n",
    "node2 = Node(2)\n",
    "node1.next = node2\n",
    "head = node1"
   ]
  },
  {
   "cell_type": "markdown",
   "id": "07e20667",
   "metadata": {},
   "source": [
    "##### 링크드 리스트로 데이터 추가하기"
   ]
  },
  {
   "cell_type": "code",
   "execution_count": null,
   "id": "9f776665",
   "metadata": {},
   "outputs": [],
   "source": [
    "class Node:\n",
    "    def __init__(self, data, next= None):\n",
    "        self.data = data\n",
    "        self.next = None\n",
    "\n",
    "def add(data):\n",
    "    node = head\n",
    "    while node.next:\n",
    "        node = node.next\n",
    "    node.next = Node(data)"
   ]
  },
  {
   "cell_type": "code",
   "execution_count": null,
   "id": "4785763c",
   "metadata": {},
   "outputs": [],
   "source": [
    "node1 = Node(1)\n",
    "head = node1\n",
    "for index in range(2,10):\n",
    "    add(index)"
   ]
  },
  {
   "cell_type": "markdown",
   "id": "eb457bbc",
   "metadata": {},
   "source": [
    "##### 링크드 리스트 데이터 출력하기(검색하기)"
   ]
  },
  {
   "cell_type": "code",
   "execution_count": null,
   "id": "837b52d4",
   "metadata": {},
   "outputs": [],
   "source": [
    "node = head\n",
    "while node.next:\n",
    "    print(node.data)\n",
    "    node = node.next\n",
    "print(node.data)"
   ]
  },
  {
   "cell_type": "markdown",
   "id": "06bc2275",
   "metadata": {},
   "source": [
    "### 3. 링크드 리스트의 장단점 \n",
    "    - 장점\n",
    "        -미리 데이터 공간을 할당하지 않아도 된다.\n",
    "            - 배열은 미리 데이터 공간을 할당해야 함\n",
    "    - 단점\n",
    "        - 연결을 위한 별도 데이터 공간이 필요해, 저장 공간 효율 안 좋음\n",
    "        - 연결 정보를 찾는 시간이 필요해 접근 시간이 느림\n",
    "        - 중간 데이터 삭제시 , 일부 데이터 연결을 재구성 해야하는 부가적인 작업 필요"
   ]
  },
  {
   "cell_type": "code",
   "execution_count": null,
   "id": "83474205",
   "metadata": {},
   "outputs": [],
   "source": []
  },
  {
   "cell_type": "markdown",
   "id": "e34af747",
   "metadata": {},
   "source": [
    "### 4. 링크드 리스트의 복합한 기능 1( 리스트 데이터 사이에 데이터를 추가)\n",
    "    - 링크드 리스트는 유지 관리에 부가적인 구현이 필요함"
   ]
  },
  {
   "cell_type": "code",
   "execution_count": null,
   "id": "6d61a31d",
   "metadata": {},
   "outputs": [],
   "source": [
    "node = head\n",
    "while node.next:\n",
    "    print(node.data)\n",
    "    node = node.next\n",
    "print(node.data)"
   ]
  },
  {
   "cell_type": "code",
   "execution_count": null,
   "id": "89a35800",
   "metadata": {},
   "outputs": [],
   "source": [
    "node3 = Node(4.5)"
   ]
  },
  {
   "cell_type": "code",
   "execution_count": null,
   "id": "357e3160",
   "metadata": {},
   "outputs": [],
   "source": [
    "node = head\n",
    "search = True\n",
    "while search:\n",
    "    if node.data == 4:\n",
    "        search == False\n",
    "    else:\n",
    "        node = node.next\n",
    "        \n",
    "node_next = node.next\n",
    "node.next = node3\n",
    "node3.next = node_next"
   ]
  },
  {
   "cell_type": "code",
   "execution_count": null,
   "id": "c664a5c9",
   "metadata": {},
   "outputs": [],
   "source": [
    "node = head\n",
    "while node.next:\n",
    "    print(node.data)\n",
    "    node = node.next\n",
    "print(node.data)"
   ]
  },
  {
   "cell_type": "markdown",
   "id": "303f6b2d",
   "metadata": {},
   "source": [
    "### 5. 파이썬 객체지향 프로그래밍으로 링크드 리스트 구현하기"
   ]
  },
  {
   "cell_type": "code",
   "execution_count": null,
   "id": "3dd89448",
   "metadata": {},
   "outputs": [],
   "source": [
    "class Node:\n",
    "    def __init__(self.data, next=None):\n",
    "        self.data = data\n",
    "        self.next= next\n",
    "\n",
    "class NodeMgmt:\n",
    "    def __init__(self.data):\n",
    "        self.head = Node(data)\n",
    "    \n",
    "    def add(self.data):\n",
    "        if self.head =='':\n",
    "            self.head =Node(data)\n",
    "        else:\n",
    "            node = self.head\n",
    "            while node.next:\n",
    "                node =node.next\n",
    "            node.next = Node(data)\n",
    "            \n",
    "    def desc(self):\n",
    "        node =self.head\n",
    "        while node:\n",
    "            print(node.data)\n",
    "            node = node.next"
   ]
  },
  {
   "cell_type": "code",
   "execution_count": null,
   "id": "caeafd76",
   "metadata": {},
   "outputs": [],
   "source": [
    "linkedlist1 = NodeMgmt(0)\n",
    "linkedlist1.desc()"
   ]
  },
  {
   "cell_type": "code",
   "execution_count": null,
   "id": "c412da5c",
   "metadata": {},
   "outputs": [],
   "source": []
  }
 ],
 "metadata": {
  "kernelspec": {
   "display_name": "Python 3 (ipykernel)",
   "language": "python",
   "name": "python3"
  },
  "language_info": {
   "codemirror_mode": {
    "name": "ipython",
    "version": 3
   },
   "file_extension": ".py",
   "mimetype": "text/x-python",
   "name": "python",
   "nbconvert_exporter": "python",
   "pygments_lexer": "ipython3",
   "version": "3.9.0"
  }
 },
 "nbformat": 4,
 "nbformat_minor": 5
}
