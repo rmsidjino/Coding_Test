{
 "cells": [
  {
   "cell_type": "markdown",
   "id": "71992604",
   "metadata": {},
   "source": [
    "### 1. 큐 구조\n",
    "    - 줄을 서는 행위와 유사\n",
    "        -가장 먼저 넣은 데이터를 가장 먼저 꺼낸다\n",
    "        -FIFO(First-in, First-out) 또는 LILO(Last-In, Last-Out) 방식으로 스택과 꺼내는 순서가 반대이다"
   ]
  },
  {
   "cell_type": "markdown",
   "id": "296a28fa",
   "metadata": {},
   "source": [
    "### 2. 알아둘 용어\n",
    "    - Enqueue: 큐에 데이터를 넣는 기능\n",
    "    - Dequeue: 큐에서 데이터를 꺼내는 기능\n",
    "    - Visualgo 사이트에서 테스트"
   ]
  },
  {
   "cell_type": "markdown",
   "id": "e7c2bcc7",
   "metadata": {},
   "source": [
    "### 3. 파이썬 queue 라이브러리를 활용해서 큐자료 구조 사용하기\n",
    "    -queue 라이브러리에는 다양한 큐 구조로 Queue(), LifroQueue(), PriorityQueue() 제공\n",
    "    - 프로그램을 작성할 때 프로그램에 따라 적합한 자료구조를 샤용\n",
    "        -Queue(): 가장 일반적인 자료 구조\n",
    "        -LifroQueue() : 나중에 입력된 데이터가 먼저 출력(스택 구조)\n",
    "        -PriorityQueue() : 데이터마다 우선순위를 넣어 그에 따라 출력"
   ]
  },
  {
   "cell_type": "markdown",
   "id": "ffbb6670",
   "metadata": {},
   "source": [
    "#### 3.1 Queue()로 큐 만들기(FIrst-In, First-Out)"
   ]
  },
  {
   "cell_type": "code",
   "execution_count": 4,
   "id": "6e0ad2e7",
   "metadata": {},
   "outputs": [],
   "source": [
    "import queue\n",
    "\n",
    "data_queue = queue.Queue()"
   ]
  },
  {
   "cell_type": "code",
   "execution_count": 6,
   "id": "9d810d9f",
   "metadata": {},
   "outputs": [],
   "source": [
    "data_queue.put(\"funcoding\")\n",
    "data_queue.put(1)"
   ]
  },
  {
   "cell_type": "code",
   "execution_count": 7,
   "id": "8d1cdf07",
   "metadata": {},
   "outputs": [
    {
     "data": {
      "text/plain": [
       "3"
      ]
     },
     "execution_count": 7,
     "metadata": {},
     "output_type": "execute_result"
    }
   ],
   "source": [
    "data_queue.qsize()"
   ]
  },
  {
   "cell_type": "code",
   "execution_count": 8,
   "id": "9f547df7",
   "metadata": {},
   "outputs": [
    {
     "data": {
      "text/plain": [
       "'funcoding'"
      ]
     },
     "execution_count": 8,
     "metadata": {},
     "output_type": "execute_result"
    }
   ],
   "source": [
    "data_queue.get()"
   ]
  },
  {
   "cell_type": "code",
   "execution_count": 9,
   "id": "d5822717",
   "metadata": {},
   "outputs": [
    {
     "data": {
      "text/plain": [
       "2"
      ]
     },
     "execution_count": 9,
     "metadata": {},
     "output_type": "execute_result"
    }
   ],
   "source": [
    "data_queue.qsize()"
   ]
  },
  {
   "cell_type": "code",
   "execution_count": 10,
   "id": "fa3099cc",
   "metadata": {},
   "outputs": [
    {
     "data": {
      "text/plain": [
       "'funcoding'"
      ]
     },
     "execution_count": 10,
     "metadata": {},
     "output_type": "execute_result"
    }
   ],
   "source": [
    "data_queue.get()"
   ]
  },
  {
   "cell_type": "code",
   "execution_count": 11,
   "id": "c886c444",
   "metadata": {},
   "outputs": [
    {
     "data": {
      "text/plain": [
       "1"
      ]
     },
     "execution_count": 11,
     "metadata": {},
     "output_type": "execute_result"
    }
   ],
   "source": [
    "data_queue.qsize()"
   ]
  },
  {
   "cell_type": "code",
   "execution_count": 12,
   "id": "aee30260",
   "metadata": {},
   "outputs": [
    {
     "data": {
      "text/plain": [
       "1"
      ]
     },
     "execution_count": 12,
     "metadata": {},
     "output_type": "execute_result"
    }
   ],
   "source": [
    "data_queue.get()"
   ]
  },
  {
   "cell_type": "markdown",
   "id": "aa0c73eb",
   "metadata": {},
   "source": [
    "#### 3.2 LifoQueue()로 큐 만들기(Last-In, First-Out)"
   ]
  },
  {
   "cell_type": "code",
   "execution_count": 14,
   "id": "ce966f71",
   "metadata": {},
   "outputs": [],
   "source": [
    "import queue\n",
    "\n",
    "data_queue = queue.LifoQueue()"
   ]
  },
  {
   "cell_type": "code",
   "execution_count": 15,
   "id": "f29f5b3d",
   "metadata": {},
   "outputs": [],
   "source": [
    "data_queue.put(\"funcoding\")\n",
    "data_queue.put(1)"
   ]
  },
  {
   "cell_type": "code",
   "execution_count": 16,
   "id": "8087c069",
   "metadata": {},
   "outputs": [
    {
     "data": {
      "text/plain": [
       "2"
      ]
     },
     "execution_count": 16,
     "metadata": {},
     "output_type": "execute_result"
    }
   ],
   "source": [
    "data_queue.qsize()"
   ]
  },
  {
   "cell_type": "code",
   "execution_count": 17,
   "id": "ba872626",
   "metadata": {},
   "outputs": [
    {
     "data": {
      "text/plain": [
       "1"
      ]
     },
     "execution_count": 17,
     "metadata": {},
     "output_type": "execute_result"
    }
   ],
   "source": [
    "data_queue.get()"
   ]
  },
  {
   "cell_type": "markdown",
   "id": "90a6059c",
   "metadata": {},
   "source": [
    "#### 3.3 PriorityQueue()로 큐 만들기"
   ]
  },
  {
   "cell_type": "code",
   "execution_count": 23,
   "id": "263d3064",
   "metadata": {},
   "outputs": [],
   "source": [
    "import queue\n",
    "\n",
    "data_queue = queue.PriorityQueue()"
   ]
  },
  {
   "cell_type": "code",
   "execution_count": 24,
   "id": "34158e7e",
   "metadata": {},
   "outputs": [],
   "source": [
    "data_queue.put((10,\"funcoding\"))\n",
    "data_queue.put((6,1))\n",
    "data_queue.put((8,\"dsds\"))"
   ]
  },
  {
   "cell_type": "code",
   "execution_count": 25,
   "id": "1c82a138",
   "metadata": {},
   "outputs": [
    {
     "data": {
      "text/plain": [
       "3"
      ]
     },
     "execution_count": 25,
     "metadata": {},
     "output_type": "execute_result"
    }
   ],
   "source": [
    "data_queue.qsize()"
   ]
  },
  {
   "cell_type": "code",
   "execution_count": 26,
   "id": "8b97b345",
   "metadata": {},
   "outputs": [
    {
     "data": {
      "text/plain": [
       "(6, 1)"
      ]
     },
     "execution_count": 26,
     "metadata": {},
     "output_type": "execute_result"
    }
   ],
   "source": [
    "data_queue.get()"
   ]
  },
  {
   "cell_type": "markdown",
   "id": "701dd764",
   "metadata": {},
   "source": [
    "### 참고 : 어디에 큐가 많이 쓰일까?\n",
    "    - 멀티 태스킹을 위한 프로세스 스케줄링 방식을 구현하기 위해 많이 사용됨"
   ]
  },
  {
   "cell_type": "markdown",
   "id": "c734ba35",
   "metadata": {},
   "source": [
    "#### 4. Enqueue(), Dequeue() 예시\n",
    "    - 연습 : 리스트 변수로 큐를 다루는 기능 구현하기"
   ]
  },
  {
   "cell_type": "code",
   "execution_count": 28,
   "id": "d5c5a00e",
   "metadata": {},
   "outputs": [],
   "source": [
    "queue_list = list()\n",
    "\n",
    "def enqueue(data):\n",
    "    queue_list.append(data)\n",
    "    \n",
    "def dequeue():\n",
    "    data = queue_list[0]\n",
    "    del queue_list[0]\n",
    "    return data"
   ]
  },
  {
   "cell_type": "code",
   "execution_count": 29,
   "id": "86b370f1",
   "metadata": {},
   "outputs": [],
   "source": [
    "for index in range(10):\n",
    "    enqueue(index)"
   ]
  },
  {
   "cell_type": "code",
   "execution_count": 30,
   "id": "a515b91a",
   "metadata": {},
   "outputs": [
    {
     "data": {
      "text/plain": [
       "10"
      ]
     },
     "execution_count": 30,
     "metadata": {},
     "output_type": "execute_result"
    }
   ],
   "source": [
    "len(queue_list)"
   ]
  },
  {
   "cell_type": "code",
   "execution_count": 31,
   "id": "b0903e73",
   "metadata": {},
   "outputs": [
    {
     "data": {
      "text/plain": [
       "0"
      ]
     },
     "execution_count": 31,
     "metadata": {},
     "output_type": "execute_result"
    }
   ],
   "source": [
    "dequeue()"
   ]
  },
  {
   "cell_type": "code",
   "execution_count": null,
   "id": "d7b3e9bf",
   "metadata": {},
   "outputs": [],
   "source": []
  }
 ],
 "metadata": {
  "kernelspec": {
   "display_name": "Python 3 (ipykernel)",
   "language": "python",
   "name": "python3"
  },
  "language_info": {
   "codemirror_mode": {
    "name": "ipython",
    "version": 3
   },
   "file_extension": ".py",
   "mimetype": "text/x-python",
   "name": "python",
   "nbconvert_exporter": "python",
   "pygments_lexer": "ipython3",
   "version": "3.9.0"
  }
 },
 "nbformat": 4,
 "nbformat_minor": 5
}
