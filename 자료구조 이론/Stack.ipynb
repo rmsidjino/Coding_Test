{
 "cells": [
  {
   "cell_type": "markdown",
   "id": "0f4f8485",
   "metadata": {},
   "source": [
    "## 꼭 알아둬야 할 자료구조: 스택(Stack)\n",
    "    - 데이터를 제한적으로 접근할 수 있는 구조\n",
    "        - 한쪽 끝에서만 자료를 넣거나 뺄 수 있는 구조\n",
    "    - 가장 나중에 쌓은 데이터를 가장 먼저 빼낼 수 있는 데이터 구조\n",
    "        - 큐 : FIFO 정책\n",
    "        - 스택 : LIFO 정책"
   ]
  },
  {
   "cell_type": "markdown",
   "id": "658e9be3",
   "metadata": {},
   "source": [
    "### 1. 스택 구조\n",
    "    - 스택은 LIFO 또는 FILO 데이터 관리 방식을 따름\n",
    "        -LIFO : 마지막에 넣은 데이터를 가장 먼저 추출\n",
    "        -FILO : 처음에 넣은 데이터를 가장 마지막에 추출\n",
    "    - 대표적인 스택의 활용\n",
    "        -컴퓨터 내부의 프로세스 구조의 함수 동작 방식\n",
    "    - 주요 기능\n",
    "        -push() : 데이터를 스택에 넣기\n",
    "        -pop() : 데이터를 스택에서 꺼내기"
   ]
  },
  {
   "cell_type": "markdown",
   "id": "23b64a03",
   "metadata": {},
   "source": [
    "### 2. 스택 구조와 프로세스 스택\n",
    "    - 스택 구조는 프로세스 실행 구조의 가장 기본\n",
    "        - 함수 호출시 프로세스 실행 구조를 스택과 비교해서 이해 필요"
   ]
  },
  {
   "cell_type": "code",
   "execution_count": 1,
   "id": "d70af306",
   "metadata": {},
   "outputs": [],
   "source": [
    "def recursive(data):\n",
    "    if data<0:\n",
    "        print(\"ended\")\n",
    "    else:\n",
    "        print(data)\n",
    "        recursive(data-1)\n",
    "        print(\"returned\",data)"
   ]
  },
  {
   "cell_type": "code",
   "execution_count": 3,
   "id": "04ab6452",
   "metadata": {},
   "outputs": [
    {
     "name": "stdout",
     "output_type": "stream",
     "text": [
      "4\n",
      "3\n",
      "2\n",
      "1\n",
      "0\n",
      "ended\n",
      "returned 0\n",
      "returned 1\n",
      "returned 2\n",
      "returned 3\n",
      "returned 4\n"
     ]
    }
   ],
   "source": [
    "recursive(4)"
   ]
  },
  {
   "cell_type": "markdown",
   "id": "ccc1a4d9",
   "metadata": {},
   "source": [
    "#### 2.1 프로세스가 동작될 때도 나중에 호출된 함수가 먼저 실행이 된다. 프로세스도 스택 처럼 동작한다는 사실을 기억하기!! "
   ]
  },
  {
   "cell_type": "markdown",
   "id": "754c1301",
   "metadata": {},
   "source": [
    "### 3. 자료 구조 스택의 장단점\n",
    "    - 장점\n",
    "        - 구조가 단순해서 구현이 쉽다.\n",
    "        - 데이터 저장/읽기 속도가 빠르다.\n",
    "    - 단점\n",
    "        - 데이터 최대 갯수를 미리 정해야 한다.\n",
    "            - 파이썬의 경우 재귀 함수는 1000번까지만 호출이 가능\n",
    "        - 저장 공간의 낭비가 발생할 수 있음\n",
    "            - 미래 최대 갯수만큼 저장 공간을 확보해야 함\n",
    "> 스택은 단순하고 빠른 성능을 위해 사용. 보통 배열 구조를 활용해서 구현함\n",
    "          "
   ]
  },
  {
   "cell_type": "markdown",
   "id": "1fa48d1d",
   "metadata": {},
   "source": [
    "### 4. 파이썬 리스트 기능에서 제공하는 메서드로 스택 사용해보기\n",
    "    - append, pop 메서드"
   ]
  },
  {
   "cell_type": "code",
   "execution_count": 5,
   "id": "0981a2f1",
   "metadata": {},
   "outputs": [],
   "source": [
    "data_stack = list()\n",
    "data_stack.append(0)\n",
    "data_stack.append(1)\n",
    "data_stack.append(2)\n",
    "data_stack.append(3)"
   ]
  },
  {
   "cell_type": "code",
   "execution_count": 6,
   "id": "91096ad6",
   "metadata": {},
   "outputs": [
    {
     "data": {
      "text/plain": [
       "3"
      ]
     },
     "execution_count": 6,
     "metadata": {},
     "output_type": "execute_result"
    }
   ],
   "source": [
    "data_stack.pop()"
   ]
  },
  {
   "cell_type": "markdown",
   "id": "690a1017",
   "metadata": {},
   "source": [
    "### 5. 프로그래밍 연습"
   ]
  },
  {
   "cell_type": "code",
   "execution_count": null,
   "id": "d0372550",
   "metadata": {},
   "outputs": [],
   "source": []
  }
 ],
 "metadata": {
  "kernelspec": {
   "display_name": "Python 3 (ipykernel)",
   "language": "python",
   "name": "python3"
  },
  "language_info": {
   "codemirror_mode": {
    "name": "ipython",
    "version": 3
   },
   "file_extension": ".py",
   "mimetype": "text/x-python",
   "name": "python",
   "nbconvert_exporter": "python",
   "pygments_lexer": "ipython3",
   "version": "3.9.0"
  }
 },
 "nbformat": 4,
 "nbformat_minor": 5
}
